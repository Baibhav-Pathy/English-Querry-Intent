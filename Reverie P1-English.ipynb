{
 "cells": [
  {
   "cell_type": "code",
   "execution_count": 1,
   "id": "9262bf91",
   "metadata": {},
   "outputs": [],
   "source": [
    "import numpy as np\n",
    "import pandas as pd\n",
    "from sklearn.model_selection import train_test_split\n",
    "from sklearn.feature_extraction.text import TfidfVectorizer\n",
    "from sklearn.svm import SVC\n",
    "from sklearn.metrics import accuracy_score, classification_report\n",
    "from sklearn.naive_bayes import MultinomialNB"
   ]
  },
  {
   "cell_type": "code",
   "execution_count": 2,
   "id": "a268e547",
   "metadata": {},
   "outputs": [],
   "source": [
    "# Load your dataset \n",
    "data = pd.read_csv('Book1.csv')\n",
    "\n",
    "# Preprocessing\n",
    "data['query'] = data['query'].str.lower()"
   ]
  },
  {
   "cell_type": "code",
   "execution_count": 3,
   "id": "ebd0978c",
   "metadata": {},
   "outputs": [],
   "source": [
    "# Split the data into training and testing sets\n",
    "X_train, X_test, y_train, y_test = train_test_split(data['query'], data['intent'], test_size=0.2, random_state=42)"
   ]
  },
  {
   "cell_type": "code",
   "execution_count": 4,
   "id": "733213d5",
   "metadata": {},
   "outputs": [],
   "source": [
    "# Feature extraction using TF-IDF\n",
    "tfidf_vectorizer = TfidfVectorizer()\n",
    "X_train_tfidf = tfidf_vectorizer.fit_transform(X_train)\n",
    "X_test_tfidf = tfidf_vectorizer.transform(X_test)"
   ]
  },
  {
   "cell_type": "code",
   "execution_count": 5,
   "id": "964afae5",
   "metadata": {},
   "outputs": [
    {
     "data": {
      "text/plain": [
       "MultinomialNB()"
      ]
     },
     "execution_count": 5,
     "metadata": {},
     "output_type": "execute_result"
    }
   ],
   "source": [
    "# Choose a classifier\n",
    "classifier = MultinomialNB()\n",
    "# Train the classifier\n",
    "classifier.fit(X_train_tfidf, y_train)"
   ]
  },
  {
   "cell_type": "code",
   "execution_count": 6,
   "id": "a4f49720",
   "metadata": {},
   "outputs": [
    {
     "name": "stdout",
     "output_type": "stream",
     "text": [
      "Accuracy: 0.8\n",
      "Classification Report:\n",
      "               precision    recall  f1-score   support\n",
      "\n",
      "          No       0.62      1.00      0.77         5\n",
      "         Yes       1.00      0.70      0.82        10\n",
      "\n",
      "    accuracy                           0.80        15\n",
      "   macro avg       0.81      0.85      0.80        15\n",
      "weighted avg       0.88      0.80      0.81        15\n",
      "\n"
     ]
    }
   ],
   "source": [
    "# Make predictions on the testing data\n",
    "y_pred = classifier.predict(X_test_tfidf)\n",
    "\n",
    "# Evaluate the model\n",
    "accuracy = accuracy_score(y_test, y_pred)\n",
    "report = classification_report(y_test, y_pred)\n",
    "\n",
    "\n",
    "print(\"Accuracy:\", accuracy)\n",
    "print(\"Classification Report:\\n\", report)"
   ]
  },
  {
   "cell_type": "code",
   "execution_count": 7,
   "id": "d3b00990",
   "metadata": {},
   "outputs": [],
   "source": [
    "#Inference Function with \"did not understand\" Threshold\n",
    "\n",
    "def predict_intent(input_text, threshold=0.7):\n",
    "    input_text = input_text.lower()\n",
    "    input_text = tfidf_vectorizer.transform([input_text])\n",
    "    probabilities = classifier.predict_proba(input_text)[0]\n",
    "    \n",
    "    max_prob = max(probabilities)\n",
    "    if max_prob < threshold:\n",
    "        return \"I did not inderstand\"\n",
    "        \n",
    "    intent = classifier.classes_[np.argmax(probabilities)]\n",
    "    return intent"
   ]
  },
  {
   "cell_type": "code",
   "execution_count": 8,
   "id": "db4a3f80",
   "metadata": {},
   "outputs": [
    {
     "name": "stdout",
     "output_type": "stream",
     "text": [
      "Intent for 'yes': Yes\n"
     ]
    }
   ],
   "source": [
    "# Testing the predict_intent function with \"yes\"\n",
    "input_text = \"yes\"\n",
    "intent = predict_intent(input_text)\n",
    "print(f\"Intent for '{input_text}': {intent}\")"
   ]
  },
  {
   "cell_type": "code",
   "execution_count": 9,
   "id": "e91586da",
   "metadata": {},
   "outputs": [
    {
     "name": "stdout",
     "output_type": "stream",
     "text": [
      "Intent for 'food': I did not inderstand\n"
     ]
    }
   ],
   "source": [
    "# Testing the predict_intent function with \"food\"\n",
    "input_text = \"food\"\n",
    "intent = predict_intent(input_text)\n",
    "print(f\"Intent for '{input_text}': {intent}\")"
   ]
  },
  {
   "cell_type": "code",
   "execution_count": 10,
   "id": "09e95048",
   "metadata": {},
   "outputs": [
    {
     "name": "stdout",
     "output_type": "stream",
     "text": [
      "Intent for 'no': No\n"
     ]
    }
   ],
   "source": [
    "# Testing the predict_intent function with \"no\"\n",
    "input_text = \"no\"\n",
    "intent = predict_intent(input_text)\n",
    "print(f\"Intent for '{input_text}': {intent}\")"
   ]
  },
  {
   "cell_type": "code",
   "execution_count": 11,
   "id": "d5bb28fc",
   "metadata": {},
   "outputs": [
    {
     "name": "stdout",
     "output_type": "stream",
     "text": [
      "Intent for 'ye mera desh': I did not inderstand\n"
     ]
    }
   ],
   "source": [
    "# Testing the predict_intent function with \"ye mera desh\"\n",
    "input_text = \"ye mera desh\"\n",
    "intent = predict_intent(input_text)\n",
    "print(f\"Intent for '{input_text}': {intent}\")"
   ]
  },
  {
   "cell_type": "code",
   "execution_count": 13,
   "id": "62cc6750",
   "metadata": {},
   "outputs": [],
   "source": [
    "### Create a Pickle file using serialization \n",
    "import pickle\n",
    "pickle_out = open(\"classifier.pkl\",\"wb\")\n",
    "pickle.dump(classifier, pickle_out)\n",
    "pickle_out.close()"
   ]
  },
  {
   "cell_type": "code",
   "execution_count": null,
   "id": "546ce0bf",
   "metadata": {},
   "outputs": [],
   "source": []
  }
 ],
 "metadata": {
  "kernelspec": {
   "display_name": "Python 3 (ipykernel)",
   "language": "python",
   "name": "python3"
  },
  "language_info": {
   "codemirror_mode": {
    "name": "ipython",
    "version": 3
   },
   "file_extension": ".py",
   "mimetype": "text/x-python",
   "name": "python",
   "nbconvert_exporter": "python",
   "pygments_lexer": "ipython3",
   "version": "3.9.12"
  }
 },
 "nbformat": 4,
 "nbformat_minor": 5
}
